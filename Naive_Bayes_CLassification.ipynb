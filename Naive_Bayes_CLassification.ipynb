{
 "cells": [
  {
   "cell_type": "code",
   "execution_count": 2,
   "metadata": {},
   "outputs": [
    {
     "data": {
      "text/plain": [
       "estimate (generic function with 1 method)"
      ]
     },
     "execution_count": 2,
     "metadata": {},
     "output_type": "execute_result"
    }
   ],
   "source": [
    "function estimate(X::Matrix{Int}, class::Vector{Int}, classes::Int, pseudo_obs::Float64)\n",
    "    \n",
    "    (cases, features) = size(X) # X[i, j] = count of feature j\n",
    "    \n",
    "    freq = zeros(Int, features, classes)\n",
    "    prior = zeros(classes)\n",
    "    cond_prob = zeros(features, classes)\n",
    "    \n",
    "    for i = 1:cases\n",
    "        k = class[i]\n",
    "        prior[k] = prior[k] + 1.0\n",
    "    \n",
    "        for j = 1:features\n",
    "            freq[j, k] = freq[j, k] + X[i, j]\n",
    "        end\n",
    "    end\n",
    "    \n",
    "    prior = prior / sum(prior)\n",
    "    \n",
    "    for j = 1:classes\n",
    "        denominator = features * pseudo_obs + sum(freq[:, j])\n",
    "        cond_prob[:, j] = (pseudo_obs + freq[:, j]) / denominator\n",
    "    end\n",
    "\n",
    "    return (log.(prior), log.(cond_prob))\n",
    "end"
   ]
  },
  {
   "cell_type": "code",
   "execution_count": 4,
   "metadata": {},
   "outputs": [
    {
     "data": {
      "text/plain": [
       "predict (generic function with 1 method)"
      ]
     },
     "execution_count": 4,
     "metadata": {},
     "output_type": "execute_result"
    }
   ],
   "source": [
    "function predict(test_case::Vector{Int}, ln_prior::Vector{Real}, ln_cond_prob::Matrix{Real})\n",
    "    features = length(test_case)\n",
    "    ln_posterior = ln_prior\n",
    "    \n",
    "    for i = 1:features\n",
    "        ln_posterior = ln_posterior + test_case[i] * ln_cond_prob[i, :]\n",
    "    end\n",
    "    \n",
    "    return indmax(ln_posterior)\n",
    "end"
   ]
  },
  {
   "cell_type": "code",
   "execution_count": 6,
   "metadata": {},
   "outputs": [
    {
     "ename": "LoadError",
     "evalue": "TypeError: getfield: expected Symbol, got Array{Float64,1}",
     "output_type": "error",
     "traceback": [
      "TypeError: getfield: expected Symbol, got Array{Float64,1}",
      "",
      " in estimate at ./In[2]:25"
     ]
    }
   ],
   "source": [
    "(features, cases, classes) = (4, 10, 2);\n",
    "\n",
    "max_outcomes = 10;\n",
    "pseudo_obs = 0.1;\n",
    "\n",
    "X = rand(0:max_outcomes, cases, features); # training data\n",
    "\n",
    "class = rand(1:classes, cases); # classes of training data\n",
    "\n",
    "(ln_prior, ln_cond_prob) = estimate(X, class, classes, pseudo_obs);\n",
    "\n",
    "test_case = rand(0:max_outcomes, features); # test data\n",
    "\n",
    "test_class = predict(test_case, ln_prior, ln_cond_prob)"
   ]
  },
  {
   "cell_type": "code",
   "execution_count": 12,
   "metadata": {},
   "outputs": [
    {
     "ename": "LoadError",
     "evalue": "type Array has no field T",
     "output_type": "error",
     "traceback": [
      "type Array has no field T",
      ""
     ]
    }
   ],
   "source": []
  }
 ],
 "metadata": {
  "kernelspec": {
   "display_name": "Julia 0.4.5",
   "language": "julia",
   "name": "julia-0.4"
  },
  "language_info": {
   "file_extension": ".jl",
   "mimetype": "application/julia",
   "name": "julia",
   "version": "0.4.5"
  }
 },
 "nbformat": 4,
 "nbformat_minor": 2
}
