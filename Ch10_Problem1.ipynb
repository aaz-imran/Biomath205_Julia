{
 "cells": [
  {
   "cell_type": "code",
   "execution_count": 109,
   "metadata": {},
   "outputs": [
    {
     "data": {
      "text/plain": [
       "fast_mult (generic function with 2 methods)"
      ]
     },
     "execution_count": 109,
     "metadata": {},
     "output_type": "execute_result"
    }
   ],
   "source": [
    "function fast_mult(p::UInt64, q::UInt64)\n",
    "    base = 10\n",
    "    a = dec(p)\n",
    "    a = reverse(a)\n",
    "    \n",
    "    b = dec(q)\n",
    "    b = reverse(b)\n",
    "    \n",
    "    m = length(a)\n",
    "    n = length(b)\n",
    "    \n",
    "    P = Array(Int64, m)\n",
    "    Q = Array(Int64, n)\n",
    "    \n",
    "    for i = 1:m\n",
    "        P[i] = parse(Int64, a[i])      #Expressing the first integer as a vector\n",
    "    end\n",
    "    \n",
    "    for j = 1:n\n",
    "        Q[j] = parse(Int64, b[j])     #Expressing the second integer as a vecotr\n",
    "    end\n",
    "    \n",
    "        \n",
    "    R = conv(P, Q)       %Convolution of two vectors\n",
    "    \n",
    "    print(R,\"\\n\")\n",
    "    \n",
    "    mult_sum = 0    #Final result\n",
    "    \n",
    "    #Generating the multiplication result as an integer from the convolution result\n",
    "    for k=1:length(R)\n",
    "        mult_sum = mult_sum + R[k]*(base^(k-1))   \n",
    "    end\n",
    "            \n",
    "    return mult_sum\n",
    "end\n"
   ]
  },
  {
   "cell_type": "code",
   "execution_count": 110,
   "metadata": {},
   "outputs": [
    {
     "name": "stdout",
     "output_type": "stream",
     "text": [
      "[0,0,25,20,54,40,33,20,4]\n"
     ]
    },
    {
     "data": {
      "text/plain": [
       "637562500"
      ]
     },
     "execution_count": 110,
     "metadata": {},
     "output_type": "execute_result"
    }
   ],
   "source": [
    "multiplication = fast_mult(25250, 25250)\n"
   ]
  }
 ],
 "metadata": {
  "kernelspec": {
   "display_name": "Julia 0.4.5",
   "language": "julia",
   "name": "julia-0.4"
  },
  "language_info": {
   "file_extension": ".jl",
   "mimetype": "application/julia",
   "name": "julia",
   "version": "0.4.5"
  }
 },
 "nbformat": 4,
 "nbformat_minor": 2
}
