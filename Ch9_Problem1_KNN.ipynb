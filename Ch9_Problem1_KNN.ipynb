{
 "cells": [
  {
   "cell_type": "code",
   "execution_count": 1,
   "metadata": {},
   "outputs": [
    {
     "data": {
      "text/plain": [
       "knn (generic function with 1 method)"
      ]
     },
     "execution_count": 1,
     "metadata": {},
     "output_type": "execute_result"
    }
   ],
   "source": [
    "function knn(X::Matrix{Float64}, Y::Matrix{Float64}, class::Vector{Int64}, k::Int64)    \n",
    "    \n",
    "    testing = size(X, 2)\n",
    "    predicted_class = zeros(Int, testing)\n",
    "    distance = pairwise(Cityblock(), Y, X) #L2 distance replaced by L1 distance\n",
    "    \n",
    "    for i = 1:testing\n",
    "        perm = selectperm(distance[:, i], 1:k) # k nearest neighbors\n",
    "        predicted_class[i] = mode(class[perm]) # most common class\n",
    "    end\n",
    "    \n",
    "    return predicted_class\n",
    "end\n",
    "\n",
    "\n"
   ]
  },
  {
   "cell_type": "code",
   "execution_count": 4,
   "metadata": {},
   "outputs": [],
   "source": [
    "using Distances, StatsBase;\n",
    "(training, testing, features) = (100, 10, 30);\n",
    "\n",
    "X = randn(features, testing);\n",
    "Y = randn(features, training);\n",
    "\n",
    "(k, classes) = (3, 2);\n",
    "\n",
    "class = rand(1:classes, training);\n"
   ]
  },
  {
   "cell_type": "code",
   "execution_count": 5,
   "metadata": {},
   "outputs": [
    {
     "data": {
      "text/plain": [
       "10-element Array{Int64,1}:\n",
       " 2\n",
       " 1\n",
       " 2\n",
       " 2\n",
       " 2\n",
       " 2\n",
       " 1\n",
       " 1\n",
       " 1\n",
       " 2"
      ]
     },
     "execution_count": 5,
     "metadata": {},
     "output_type": "execute_result"
    }
   ],
   "source": [
    "predicted_class = knn(X, Y, class, k)"
   ]
  }
 ],
 "metadata": {
  "kernelspec": {
   "display_name": "Julia 0.4.5",
   "language": "julia",
   "name": "julia-0.4"
  },
  "language_info": {
   "file_extension": ".jl",
   "mimetype": "application/julia",
   "name": "julia",
   "version": "0.4.5"
  }
 },
 "nbformat": 4,
 "nbformat_minor": 2
}
